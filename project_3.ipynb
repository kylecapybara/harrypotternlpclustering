{
 "cells": [
  {
   "cell_type": "markdown",
   "metadata": {},
   "source": [
    "# Introduction\n",
    "\n",
    "The data is a collection of all the lines from all the harry potter books sourced from [gastonstat on github](https://github.com/gastonstat/harry-potter-data). Each row in the original data is a set of words, most likely lines on the page, with columns for the text (string), book (string), and chapter (string). Since all the columns are strings I'll create other columns with statistics about the sentences for clustering analysis."
   ]
  },
  {
   "cell_type": "code",
   "execution_count": 85,
   "metadata": {},
   "outputs": [],
   "source": [
    "import pandas as pd\n",
    "import numpy as np\n",
    "import seaborn as sns\n",
    "import nltk"
   ]
  },
  {
   "cell_type": "code",
   "execution_count": 86,
   "metadata": {},
   "outputs": [
    {
     "data": {
      "text/html": [
       "<div>\n",
       "<style scoped>\n",
       "    .dataframe tbody tr th:only-of-type {\n",
       "        vertical-align: middle;\n",
       "    }\n",
       "\n",
       "    .dataframe tbody tr th {\n",
       "        vertical-align: top;\n",
       "    }\n",
       "\n",
       "    .dataframe thead th {\n",
       "        text-align: right;\n",
       "    }\n",
       "</style>\n",
       "<table border=\"1\" class=\"dataframe\">\n",
       "  <thead>\n",
       "    <tr style=\"text-align: right;\">\n",
       "      <th></th>\n",
       "      <th>text</th>\n",
       "      <th>book</th>\n",
       "      <th>chapter</th>\n",
       "    </tr>\n",
       "  </thead>\n",
       "  <tbody>\n",
       "    <tr>\n",
       "      <th>0</th>\n",
       "      <td>THE BOY WHO LIVED  Mr. and Mrs. Dursley, of nu...</td>\n",
       "      <td>Book 1: Philosopher's Stone</td>\n",
       "      <td>chap-1</td>\n",
       "    </tr>\n",
       "    <tr>\n",
       "      <th>1</th>\n",
       "      <td>four, Privet Drive, were proud to say that the...</td>\n",
       "      <td>Book 1: Philosopher's Stone</td>\n",
       "      <td>chap-1</td>\n",
       "    </tr>\n",
       "    <tr>\n",
       "      <th>2</th>\n",
       "      <td>thank you very much. They were the last people...</td>\n",
       "      <td>Book 1: Philosopher's Stone</td>\n",
       "      <td>chap-1</td>\n",
       "    </tr>\n",
       "    <tr>\n",
       "      <th>3</th>\n",
       "      <td>be involved in anything strange or mysterious,...</td>\n",
       "      <td>Book 1: Philosopher's Stone</td>\n",
       "      <td>chap-1</td>\n",
       "    </tr>\n",
       "    <tr>\n",
       "      <th>4</th>\n",
       "      <td>with such nonsense.  Mr. Dursley was the direc...</td>\n",
       "      <td>Book 1: Philosopher's Stone</td>\n",
       "      <td>chap-1</td>\n",
       "    </tr>\n",
       "  </tbody>\n",
       "</table>\n",
       "</div>"
      ],
      "text/plain": [
       "                                                text  \\\n",
       "0  THE BOY WHO LIVED  Mr. and Mrs. Dursley, of nu...   \n",
       "1  four, Privet Drive, were proud to say that the...   \n",
       "2  thank you very much. They were the last people...   \n",
       "3  be involved in anything strange or mysterious,...   \n",
       "4  with such nonsense.  Mr. Dursley was the direc...   \n",
       "\n",
       "                          book chapter  \n",
       "0  Book 1: Philosopher's Stone  chap-1  \n",
       "1  Book 1: Philosopher's Stone  chap-1  \n",
       "2  Book 1: Philosopher's Stone  chap-1  \n",
       "3  Book 1: Philosopher's Stone  chap-1  \n",
       "4  Book 1: Philosopher's Stone  chap-1  "
      ]
     },
     "execution_count": 86,
     "metadata": {},
     "output_type": "execute_result"
    }
   ],
   "source": [
    "harry = pd.read_csv('harry_potter_books.csv')\n",
    "harry.head()"
   ]
  },
  {
   "cell_type": "markdown",
   "metadata": {},
   "source": [
    "Each row contains some `text` (probably just the literal lines from whatever ebook this guy scraped the text from) and also notes the `book` it is from and what `chapter` the text is from as well. Let's make a new column that is the number of words in each row using a very, very tasty library called NLTK."
   ]
  },
  {
   "cell_type": "code",
   "execution_count": 87,
   "metadata": {},
   "outputs": [
    {
     "data": {
      "text/plain": [
       "0    11\n",
       "1    15\n",
       "2    14\n",
       "3    14\n",
       "4    12\n",
       "Name: word count, dtype: int64"
      ]
     },
     "execution_count": 87,
     "metadata": {},
     "output_type": "execute_result"
    }
   ],
   "source": [
    "harry['word count'] = harry['text'].apply(lambda x: len(nltk.word_tokenize(x)))\n",
    "harry['word count'].head()"
   ]
  },
  {
   "cell_type": "markdown",
   "metadata": {},
   "source": [
    "To get the clustering party started I'll first merge every 4 rows together so that there is more info per row (and since there's so many rows this will not hurt the sample size too much). \n",
    "\n",
    "This is not trivial! I will group them into individual chapters and then re-split them. I'll also only take chapters 3 and 4 to save on training time."
   ]
  },
  {
   "cell_type": "code",
   "execution_count": 88,
   "metadata": {},
   "outputs": [
    {
     "data": {
      "text/html": [
       "<div>\n",
       "<style scoped>\n",
       "    .dataframe tbody tr th:only-of-type {\n",
       "        vertical-align: middle;\n",
       "    }\n",
       "\n",
       "    .dataframe tbody tr th {\n",
       "        vertical-align: top;\n",
       "    }\n",
       "\n",
       "    .dataframe thead th {\n",
       "        text-align: right;\n",
       "    }\n",
       "</style>\n",
       "<table border=\"1\" class=\"dataframe\">\n",
       "  <thead>\n",
       "    <tr style=\"text-align: right;\">\n",
       "      <th></th>\n",
       "      <th>book</th>\n",
       "      <th>chapter</th>\n",
       "      <th>text</th>\n",
       "      <th>word count</th>\n",
       "    </tr>\n",
       "  </thead>\n",
       "  <tbody>\n",
       "    <tr>\n",
       "      <th>36</th>\n",
       "      <td>Book 3: Prisoner of Azkaban</td>\n",
       "      <td>chap-1</td>\n",
       "      <td>OWL POST  Harry Potter was a highly unusual ...</td>\n",
       "      <td>4349</td>\n",
       "    </tr>\n",
       "    <tr>\n",
       "      <th>37</th>\n",
       "      <td>Book 3: Prisoner of Azkaban</td>\n",
       "      <td>chap-10</td>\n",
       "      <td>THE MARAUDER'S MAP  Madam Pomfrey insisted o...</td>\n",
       "      <td>8973</td>\n",
       "    </tr>\n",
       "    <tr>\n",
       "      <th>38</th>\n",
       "      <td>Book 3: Prisoner of Azkaban</td>\n",
       "      <td>chap-11</td>\n",
       "      <td>THE FIREBOLT  Harry didn't have a very clear...</td>\n",
       "      <td>6553</td>\n",
       "    </tr>\n",
       "    <tr>\n",
       "      <th>39</th>\n",
       "      <td>Book 3: Prisoner of Azkaban</td>\n",
       "      <td>chap-12</td>\n",
       "      <td>THE PATRONUS  Harry knew that Hermione had m...</td>\n",
       "      <td>6230</td>\n",
       "    </tr>\n",
       "    <tr>\n",
       "      <th>40</th>\n",
       "      <td>Book 3: Prisoner of Azkaban</td>\n",
       "      <td>chap-13</td>\n",
       "      <td>GRYFFINDOR VERSUS RAVENCLAW  It looked like ...</td>\n",
       "      <td>5398</td>\n",
       "    </tr>\n",
       "  </tbody>\n",
       "</table>\n",
       "</div>"
      ],
      "text/plain": [
       "                           book  chapter  \\\n",
       "36  Book 3: Prisoner of Azkaban   chap-1   \n",
       "37  Book 3: Prisoner of Azkaban  chap-10   \n",
       "38  Book 3: Prisoner of Azkaban  chap-11   \n",
       "39  Book 3: Prisoner of Azkaban  chap-12   \n",
       "40  Book 3: Prisoner of Azkaban  chap-13   \n",
       "\n",
       "                                                 text  word count  \n",
       "36    OWL POST  Harry Potter was a highly unusual ...        4349  \n",
       "37    THE MARAUDER'S MAP  Madam Pomfrey insisted o...        8973  \n",
       "38    THE FIREBOLT  Harry didn't have a very clear...        6553  \n",
       "39    THE PATRONUS  Harry knew that Hermione had m...        6230  \n",
       "40    GRYFFINDOR VERSUS RAVENCLAW  It looked like ...        5398  "
      ]
     },
     "execution_count": 88,
     "metadata": {},
     "output_type": "execute_result"
    }
   ],
   "source": [
    "combined_rows = harry.groupby(['book', 'chapter']).agg({'text': ' '.join, 'word count': 'sum'}).reset_index()\n",
    "combined_rows = combined_rows.loc[(combined_rows['book'] == 'Book 3: Prisoner of Azkaban') | (combined_rows['book'] == 'Book 4: Goblet of Fire')]\n",
    "combined_rows.head()"
   ]
  },
  {
   "cell_type": "markdown",
   "metadata": {},
   "source": [
    "Seeing how many words are in each row its clear we have a row per chapter. Now to let NLTK do the sentence splitting magic and EXPLODE the rows into their own rows."
   ]
  },
  {
   "cell_type": "code",
   "execution_count": 89,
   "metadata": {},
   "outputs": [
    {
     "data": {
      "text/html": [
       "<div>\n",
       "<style scoped>\n",
       "    .dataframe tbody tr th:only-of-type {\n",
       "        vertical-align: middle;\n",
       "    }\n",
       "\n",
       "    .dataframe tbody tr th {\n",
       "        vertical-align: top;\n",
       "    }\n",
       "\n",
       "    .dataframe thead th {\n",
       "        text-align: right;\n",
       "    }\n",
       "</style>\n",
       "<table border=\"1\" class=\"dataframe\">\n",
       "  <thead>\n",
       "    <tr style=\"text-align: right;\">\n",
       "      <th></th>\n",
       "      <th>book</th>\n",
       "      <th>chapter</th>\n",
       "      <th>text</th>\n",
       "    </tr>\n",
       "  </thead>\n",
       "  <tbody>\n",
       "    <tr>\n",
       "      <th>36</th>\n",
       "      <td>Book 3: Prisoner of Azkaban</td>\n",
       "      <td>chap-1</td>\n",
       "      <td>OWL POST  Harry Potter was a highly unusual ...</td>\n",
       "    </tr>\n",
       "    <tr>\n",
       "      <th>36</th>\n",
       "      <td>Book 3: Prisoner of Azkaban</td>\n",
       "      <td>chap-1</td>\n",
       "      <td>For one thing, he hated the summer holidays mo...</td>\n",
       "    </tr>\n",
       "    <tr>\n",
       "      <th>36</th>\n",
       "      <td>Book 3: Prisoner of Azkaban</td>\n",
       "      <td>chap-1</td>\n",
       "      <td>For another, he really wanted to do his homewo...</td>\n",
       "    </tr>\n",
       "    <tr>\n",
       "      <th>36</th>\n",
       "      <td>Book 3: Prisoner of Azkaban</td>\n",
       "      <td>chap-1</td>\n",
       "      <td>And he also happened to be a wizard.</td>\n",
       "    </tr>\n",
       "    <tr>\n",
       "      <th>36</th>\n",
       "      <td>Book 3: Prisoner of Azkaban</td>\n",
       "      <td>chap-1</td>\n",
       "      <td>It was nearly midnight, and he was lying on hi...</td>\n",
       "    </tr>\n",
       "  </tbody>\n",
       "</table>\n",
       "</div>"
      ],
      "text/plain": [
       "                           book chapter  \\\n",
       "36  Book 3: Prisoner of Azkaban  chap-1   \n",
       "36  Book 3: Prisoner of Azkaban  chap-1   \n",
       "36  Book 3: Prisoner of Azkaban  chap-1   \n",
       "36  Book 3: Prisoner of Azkaban  chap-1   \n",
       "36  Book 3: Prisoner of Azkaban  chap-1   \n",
       "\n",
       "                                                 text  \n",
       "36    OWL POST  Harry Potter was a highly unusual ...  \n",
       "36  For one thing, he hated the summer holidays mo...  \n",
       "36  For another, he really wanted to do his homewo...  \n",
       "36               And he also happened to be a wizard.  \n",
       "36  It was nearly midnight, and he was lying on hi...  "
      ]
     },
     "execution_count": 89,
     "metadata": {},
     "output_type": "execute_result"
    }
   ],
   "source": [
    "combined_rows['text'] = combined_rows['text'].apply(lambda x: nltk.sent_tokenize(x))\n",
    "sentences = combined_rows.explode('text').drop('word count', axis=1)\n",
    "sentences.head()"
   ]
  },
  {
   "cell_type": "code",
   "execution_count": 90,
   "metadata": {},
   "outputs": [
    {
     "data": {
      "text/html": [
       "<div>\n",
       "<style scoped>\n",
       "    .dataframe tbody tr th:only-of-type {\n",
       "        vertical-align: middle;\n",
       "    }\n",
       "\n",
       "    .dataframe tbody tr th {\n",
       "        vertical-align: top;\n",
       "    }\n",
       "\n",
       "    .dataframe thead th {\n",
       "        text-align: right;\n",
       "    }\n",
       "</style>\n",
       "<table border=\"1\" class=\"dataframe\">\n",
       "  <thead>\n",
       "    <tr style=\"text-align: right;\">\n",
       "      <th></th>\n",
       "      <th>book</th>\n",
       "      <th>chapter</th>\n",
       "      <th>text</th>\n",
       "    </tr>\n",
       "  </thead>\n",
       "  <tbody>\n",
       "    <tr>\n",
       "      <th>count</th>\n",
       "      <td>20630</td>\n",
       "      <td>20630</td>\n",
       "      <td>20630</td>\n",
       "    </tr>\n",
       "    <tr>\n",
       "      <th>unique</th>\n",
       "      <td>2</td>\n",
       "      <td>37</td>\n",
       "      <td>18399</td>\n",
       "    </tr>\n",
       "    <tr>\n",
       "      <th>top</th>\n",
       "      <td>Book 4: Goblet of Fire</td>\n",
       "      <td>chap-9</td>\n",
       "      <td>.</td>\n",
       "    </tr>\n",
       "    <tr>\n",
       "      <th>freq</th>\n",
       "      <td>14010</td>\n",
       "      <td>905</td>\n",
       "      <td>2048</td>\n",
       "    </tr>\n",
       "  </tbody>\n",
       "</table>\n",
       "</div>"
      ],
      "text/plain": [
       "                          book chapter   text\n",
       "count                    20630   20630  20630\n",
       "unique                       2      37  18399\n",
       "top     Book 4: Goblet of Fire  chap-9      .\n",
       "freq                     14010     905   2048"
      ]
     },
     "execution_count": 90,
     "metadata": {},
     "output_type": "execute_result"
    }
   ],
   "source": [
    "sentences.describe()"
   ]
  },
  {
   "cell_type": "markdown",
   "metadata": {},
   "source": [
    "It's a little annoying that NLTK thinks a solid number of sentences are a single period so I'll remove all those rows just in case they ruin my clustering later. (there are some other annoyingly short sentences I removed too)"
   ]
  },
  {
   "cell_type": "code",
   "execution_count": 91,
   "metadata": {},
   "outputs": [
    {
     "data": {
      "text/html": [
       "<div>\n",
       "<style scoped>\n",
       "    .dataframe tbody tr th:only-of-type {\n",
       "        vertical-align: middle;\n",
       "    }\n",
       "\n",
       "    .dataframe tbody tr th {\n",
       "        vertical-align: top;\n",
       "    }\n",
       "\n",
       "    .dataframe thead th {\n",
       "        text-align: right;\n",
       "    }\n",
       "</style>\n",
       "<table border=\"1\" class=\"dataframe\">\n",
       "  <thead>\n",
       "    <tr style=\"text-align: right;\">\n",
       "      <th></th>\n",
       "      <th>book</th>\n",
       "      <th>chapter</th>\n",
       "      <th>text</th>\n",
       "    </tr>\n",
       "  </thead>\n",
       "  <tbody>\n",
       "    <tr>\n",
       "      <th>count</th>\n",
       "      <td>18544</td>\n",
       "      <td>18544</td>\n",
       "      <td>18544</td>\n",
       "    </tr>\n",
       "    <tr>\n",
       "      <th>unique</th>\n",
       "      <td>2</td>\n",
       "      <td>37</td>\n",
       "      <td>18396</td>\n",
       "    </tr>\n",
       "    <tr>\n",
       "      <th>top</th>\n",
       "      <td>Book 4: Goblet of Fire</td>\n",
       "      <td>chap-21</td>\n",
       "      <td>Clunk.</td>\n",
       "    </tr>\n",
       "    <tr>\n",
       "      <th>freq</th>\n",
       "      <td>11925</td>\n",
       "      <td>851</td>\n",
       "      <td>9</td>\n",
       "    </tr>\n",
       "  </tbody>\n",
       "</table>\n",
       "</div>"
      ],
      "text/plain": [
       "                          book  chapter    text\n",
       "count                    18544    18544   18544\n",
       "unique                       2       37   18396\n",
       "top     Book 4: Goblet of Fire  chap-21  Clunk.\n",
       "freq                     11925      851       9"
      ]
     },
     "execution_count": 91,
     "metadata": {},
     "output_type": "execute_result"
    }
   ],
   "source": [
    "sentences = sentences.loc[(sentences['text'] != '.') & (sentences['text'] != \".'\") & (sentences['text'] != \"...\")]\n",
    "sentences.describe()"
   ]
  },
  {
   "cell_type": "markdown",
   "metadata": {},
   "source": [
    "Now I'll use some useful tools from NLTK to make columns to use when clustering"
   ]
  },
  {
   "cell_type": "code",
   "execution_count": 92,
   "metadata": {},
   "outputs": [],
   "source": [
    "from nltk.tokenize import word_tokenize\n",
    "from nltk.corpus import stopwords\n",
    "\n",
    "stop_words = set(stopwords.words('english'))\n",
    "\n",
    "sentences['word_count'] = sentences['text'].apply(lambda x: len(word_tokenize(x)))\n",
    "sentences['avg_word_length'] = sentences['text'].apply(lambda x: sum(len(word) for word in word_tokenize(x)) / len(word_tokenize(x)))\n",
    "sentences['stopwords_count'] = sentences['text'].apply(lambda x: len([word for word in word_tokenize(x) if word.lower() in stop_words]))\n",
    "sentences['sentence_length'] = sentences['text'].apply(lambda x: len(x.split()))\n",
    "\n",
    "import string\n",
    "sentences['punctuation_count'] = sentences['text'].apply(lambda x: len([char for char in x if char in string.punctuation]))"
   ]
  },
  {
   "cell_type": "code",
   "execution_count": 93,
   "metadata": {},
   "outputs": [
    {
     "data": {
      "text/html": [
       "<div>\n",
       "<style scoped>\n",
       "    .dataframe tbody tr th:only-of-type {\n",
       "        vertical-align: middle;\n",
       "    }\n",
       "\n",
       "    .dataframe tbody tr th {\n",
       "        vertical-align: top;\n",
       "    }\n",
       "\n",
       "    .dataframe thead th {\n",
       "        text-align: right;\n",
       "    }\n",
       "</style>\n",
       "<table border=\"1\" class=\"dataframe\">\n",
       "  <thead>\n",
       "    <tr style=\"text-align: right;\">\n",
       "      <th></th>\n",
       "      <th>book</th>\n",
       "      <th>chapter</th>\n",
       "      <th>text</th>\n",
       "      <th>word_count</th>\n",
       "      <th>avg_word_length</th>\n",
       "      <th>stopwords_count</th>\n",
       "      <th>sentence_length</th>\n",
       "      <th>punctuation_count</th>\n",
       "    </tr>\n",
       "  </thead>\n",
       "  <tbody>\n",
       "    <tr>\n",
       "      <th>36</th>\n",
       "      <td>Book 3: Prisoner of Azkaban</td>\n",
       "      <td>chap-1</td>\n",
       "      <td>OWL POST  Harry Potter was a highly unusual ...</td>\n",
       "      <td>13</td>\n",
       "      <td>3.769231</td>\n",
       "      <td>3</td>\n",
       "      <td>12</td>\n",
       "      <td>1</td>\n",
       "    </tr>\n",
       "    <tr>\n",
       "      <th>36</th>\n",
       "      <td>Book 3: Prisoner of Azkaban</td>\n",
       "      <td>chap-1</td>\n",
       "      <td>For one thing, he hated the summer holidays mo...</td>\n",
       "      <td>17</td>\n",
       "      <td>3.705882</td>\n",
       "      <td>8</td>\n",
       "      <td>15</td>\n",
       "      <td>2</td>\n",
       "    </tr>\n",
       "    <tr>\n",
       "      <th>36</th>\n",
       "      <td>Book 3: Prisoner of Azkaban</td>\n",
       "      <td>chap-1</td>\n",
       "      <td>For another, he really wanted to do his homewo...</td>\n",
       "      <td>25</td>\n",
       "      <td>3.360000</td>\n",
       "      <td>14</td>\n",
       "      <td>22</td>\n",
       "      <td>3</td>\n",
       "    </tr>\n",
       "    <tr>\n",
       "      <th>36</th>\n",
       "      <td>Book 3: Prisoner of Azkaban</td>\n",
       "      <td>chap-1</td>\n",
       "      <td>And he also happened to be a wizard.</td>\n",
       "      <td>9</td>\n",
       "      <td>3.222222</td>\n",
       "      <td>5</td>\n",
       "      <td>8</td>\n",
       "      <td>1</td>\n",
       "    </tr>\n",
       "    <tr>\n",
       "      <th>36</th>\n",
       "      <td>Book 3: Prisoner of Azkaban</td>\n",
       "      <td>chap-1</td>\n",
       "      <td>It was nearly midnight, and he was lying on hi...</td>\n",
       "      <td>51</td>\n",
       "      <td>3.941176</td>\n",
       "      <td>21</td>\n",
       "      <td>45</td>\n",
       "      <td>7</td>\n",
       "    </tr>\n",
       "  </tbody>\n",
       "</table>\n",
       "</div>"
      ],
      "text/plain": [
       "                           book chapter  \\\n",
       "36  Book 3: Prisoner of Azkaban  chap-1   \n",
       "36  Book 3: Prisoner of Azkaban  chap-1   \n",
       "36  Book 3: Prisoner of Azkaban  chap-1   \n",
       "36  Book 3: Prisoner of Azkaban  chap-1   \n",
       "36  Book 3: Prisoner of Azkaban  chap-1   \n",
       "\n",
       "                                                 text  word_count  \\\n",
       "36    OWL POST  Harry Potter was a highly unusual ...          13   \n",
       "36  For one thing, he hated the summer holidays mo...          17   \n",
       "36  For another, he really wanted to do his homewo...          25   \n",
       "36               And he also happened to be a wizard.           9   \n",
       "36  It was nearly midnight, and he was lying on hi...          51   \n",
       "\n",
       "    avg_word_length  stopwords_count  sentence_length  punctuation_count  \n",
       "36         3.769231                3               12                  1  \n",
       "36         3.705882                8               15                  2  \n",
       "36         3.360000               14               22                  3  \n",
       "36         3.222222                5                8                  1  \n",
       "36         3.941176               21               45                  7  "
      ]
     },
     "execution_count": 93,
     "metadata": {},
     "output_type": "execute_result"
    }
   ],
   "source": [
    "sentences.head()"
   ]
  },
  {
   "cell_type": "markdown",
   "metadata": {},
   "source": [
    "Adding a few more columns that also make use of NLTKs cooler features like polarity and named entity count. "
   ]
  },
  {
   "cell_type": "code",
   "execution_count": 94,
   "metadata": {},
   "outputs": [],
   "source": [
    "from nltk.sentiment import SentimentIntensityAnalyzer\n",
    "\n",
    "# sentiment analyzer\n",
    "sid = SentimentIntensityAnalyzer()\n",
    "\n",
    "sentences['polarity'] = sentences['text'].apply(lambda x: sid.polarity_scores(x)['compound'] )\n",
    "sentences['subjectivity_score'] = sentences['text'].apply(lambda x: sid.polarity_scores(x)['compound'])\n",
    "for tag in ['JJ', 'RB', 'NN', 'VB']:\n",
    "    sentences[tag + '_count'] = sentences['text'].apply(lambda x: sum(1 for _, pos in nltk.pos_tag(nltk.word_tokenize(x)) if pos == tag))\n",
    "sentences['named_entity_count'] = sentences['text'].apply(lambda x: sum(1 for chunk in nltk.ne_chunk(nltk.pos_tag(nltk.word_tokenize(x))) if hasattr(chunk, 'label')))"
   ]
  },
  {
   "cell_type": "markdown",
   "metadata": {},
   "source": [
    "The tags 'JJ', 'RB', 'NN', and 'VB' correspond to parts of speech adjective, adverb, noun, and verb."
   ]
  },
  {
   "cell_type": "code",
   "execution_count": 95,
   "metadata": {},
   "outputs": [
    {
     "data": {
      "text/html": [
       "<div>\n",
       "<style scoped>\n",
       "    .dataframe tbody tr th:only-of-type {\n",
       "        vertical-align: middle;\n",
       "    }\n",
       "\n",
       "    .dataframe tbody tr th {\n",
       "        vertical-align: top;\n",
       "    }\n",
       "\n",
       "    .dataframe thead th {\n",
       "        text-align: right;\n",
       "    }\n",
       "</style>\n",
       "<table border=\"1\" class=\"dataframe\">\n",
       "  <thead>\n",
       "    <tr style=\"text-align: right;\">\n",
       "      <th></th>\n",
       "      <th>book</th>\n",
       "      <th>chapter</th>\n",
       "      <th>text</th>\n",
       "      <th>word_count</th>\n",
       "      <th>avg_word_length</th>\n",
       "      <th>stopwords_count</th>\n",
       "      <th>sentence_length</th>\n",
       "      <th>punctuation_count</th>\n",
       "      <th>polarity</th>\n",
       "      <th>subjectivity_score</th>\n",
       "      <th>JJ_count</th>\n",
       "      <th>RB_count</th>\n",
       "      <th>NN_count</th>\n",
       "      <th>VB_count</th>\n",
       "      <th>named_entity_count</th>\n",
       "    </tr>\n",
       "  </thead>\n",
       "  <tbody>\n",
       "    <tr>\n",
       "      <th>0</th>\n",
       "      <td>Book 3: Prisoner of Azkaban</td>\n",
       "      <td>chap-1</td>\n",
       "      <td>OWL POST  Harry Potter was a highly unusual ...</td>\n",
       "      <td>13</td>\n",
       "      <td>3.769231</td>\n",
       "      <td>3</td>\n",
       "      <td>12</td>\n",
       "      <td>1</td>\n",
       "      <td>0.0000</td>\n",
       "      <td>0.0000</td>\n",
       "      <td>2</td>\n",
       "      <td>1</td>\n",
       "      <td>1</td>\n",
       "      <td>0</td>\n",
       "      <td>2</td>\n",
       "    </tr>\n",
       "    <tr>\n",
       "      <th>1</th>\n",
       "      <td>Book 3: Prisoner of Azkaban</td>\n",
       "      <td>chap-1</td>\n",
       "      <td>For one thing, he hated the summer holidays mo...</td>\n",
       "      <td>17</td>\n",
       "      <td>3.705882</td>\n",
       "      <td>8</td>\n",
       "      <td>15</td>\n",
       "      <td>2</td>\n",
       "      <td>-0.3818</td>\n",
       "      <td>-0.3818</td>\n",
       "      <td>1</td>\n",
       "      <td>0</td>\n",
       "      <td>4</td>\n",
       "      <td>0</td>\n",
       "      <td>0</td>\n",
       "    </tr>\n",
       "    <tr>\n",
       "      <th>2</th>\n",
       "      <td>Book 3: Prisoner of Azkaban</td>\n",
       "      <td>chap-1</td>\n",
       "      <td>For another, he really wanted to do his homewo...</td>\n",
       "      <td>25</td>\n",
       "      <td>3.360000</td>\n",
       "      <td>14</td>\n",
       "      <td>22</td>\n",
       "      <td>3</td>\n",
       "      <td>-0.8990</td>\n",
       "      <td>-0.8990</td>\n",
       "      <td>1</td>\n",
       "      <td>1</td>\n",
       "      <td>3</td>\n",
       "      <td>2</td>\n",
       "      <td>0</td>\n",
       "    </tr>\n",
       "    <tr>\n",
       "      <th>3</th>\n",
       "      <td>Book 3: Prisoner of Azkaban</td>\n",
       "      <td>chap-1</td>\n",
       "      <td>And he also happened to be a wizard.</td>\n",
       "      <td>9</td>\n",
       "      <td>3.222222</td>\n",
       "      <td>5</td>\n",
       "      <td>8</td>\n",
       "      <td>1</td>\n",
       "      <td>0.0000</td>\n",
       "      <td>0.0000</td>\n",
       "      <td>0</td>\n",
       "      <td>1</td>\n",
       "      <td>1</td>\n",
       "      <td>1</td>\n",
       "      <td>0</td>\n",
       "    </tr>\n",
       "    <tr>\n",
       "      <th>4</th>\n",
       "      <td>Book 3: Prisoner of Azkaban</td>\n",
       "      <td>chap-1</td>\n",
       "      <td>It was nearly midnight, and he was lying on hi...</td>\n",
       "      <td>51</td>\n",
       "      <td>3.941176</td>\n",
       "      <td>21</td>\n",
       "      <td>45</td>\n",
       "      <td>7</td>\n",
       "      <td>0.3182</td>\n",
       "      <td>0.3182</td>\n",
       "      <td>3</td>\n",
       "      <td>2</td>\n",
       "      <td>10</td>\n",
       "      <td>0</td>\n",
       "      <td>2</td>\n",
       "    </tr>\n",
       "  </tbody>\n",
       "</table>\n",
       "</div>"
      ],
      "text/plain": [
       "                          book chapter  \\\n",
       "0  Book 3: Prisoner of Azkaban  chap-1   \n",
       "1  Book 3: Prisoner of Azkaban  chap-1   \n",
       "2  Book 3: Prisoner of Azkaban  chap-1   \n",
       "3  Book 3: Prisoner of Azkaban  chap-1   \n",
       "4  Book 3: Prisoner of Azkaban  chap-1   \n",
       "\n",
       "                                                text  word_count  \\\n",
       "0    OWL POST  Harry Potter was a highly unusual ...          13   \n",
       "1  For one thing, he hated the summer holidays mo...          17   \n",
       "2  For another, he really wanted to do his homewo...          25   \n",
       "3               And he also happened to be a wizard.           9   \n",
       "4  It was nearly midnight, and he was lying on hi...          51   \n",
       "\n",
       "   avg_word_length  stopwords_count  sentence_length  punctuation_count  \\\n",
       "0         3.769231                3               12                  1   \n",
       "1         3.705882                8               15                  2   \n",
       "2         3.360000               14               22                  3   \n",
       "3         3.222222                5                8                  1   \n",
       "4         3.941176               21               45                  7   \n",
       "\n",
       "   polarity  subjectivity_score  JJ_count  RB_count  NN_count  VB_count  \\\n",
       "0    0.0000              0.0000         2         1         1         0   \n",
       "1   -0.3818             -0.3818         1         0         4         0   \n",
       "2   -0.8990             -0.8990         1         1         3         2   \n",
       "3    0.0000              0.0000         0         1         1         1   \n",
       "4    0.3182              0.3182         3         2        10         0   \n",
       "\n",
       "   named_entity_count  \n",
       "0                   2  \n",
       "1                   0  \n",
       "2                   0  \n",
       "3                   0  \n",
       "4                   2  "
      ]
     },
     "execution_count": 95,
     "metadata": {},
     "output_type": "execute_result"
    }
   ],
   "source": [
    "sentences.reset_index(drop=True, inplace=True)\n",
    "sentences.head(5)"
   ]
  },
  {
   "cell_type": "markdown",
   "metadata": {},
   "source": [
    "# Analysis / Results\n",
    "\n",
    "I'll use standarized colums and consider $n \\in (2,3,4,5,6,7)$. I'll also use standard state 51524 because thats todays date if you were wondering."
   ]
  },
  {
   "cell_type": "code",
   "execution_count": 96,
   "metadata": {},
   "outputs": [],
   "source": [
    "from sklearn.pipeline import make_pipeline\n",
    "from sklearn.preprocessing import StandardScaler\n",
    "from sklearn.cluster import KMeans\n",
    "from sklearn.metrics import adjusted_rand_score\n",
    "from sklearn.metrics import silhouette_samples\n",
    "\n",
    "X = sentences.drop(['book', 'chapter', 'text' ], axis=1)"
   ]
  },
  {
   "cell_type": "code",
   "execution_count": 97,
   "metadata": {},
   "outputs": [
    {
     "name": "stdout",
     "output_type": "stream",
     "text": [
      "k=2, silhouette=0.562870770245955, ARI=-0.0014\n",
      "k=3, silhouette=0.46884910871205826, ARI=0.0001\n",
      "k=4, silhouette=0.28087121537651355, ARI=0.0013\n",
      "k=5, silhouette=0.039228830254121196, ARI=0.0001\n",
      "k=6, silhouette=0.015277056415322286, ARI=-0.0002\n",
      "k=7, silhouette=0.01119503912774932, ARI=0.0004\n"
     ]
    }
   ],
   "source": [
    "ks = [2,3,4,5,6,7]\n",
    "\n",
    "for k in ks:\n",
    "    km = make_pipeline(StandardScaler(), KMeans(n_clusters=k, n_init=5, random_state=51524))\n",
    "    km.fit(X)\n",
    "    y = km[1].labels_\n",
    "    sil = silhouette_samples(X, y)\n",
    "    ARI = adjusted_rand_score(sentences['book'], y)\n",
    "    print(f'k={k}, silhouette={sil.mean()}, ARI={ARI:.4f}')"
   ]
  },
  {
   "cell_type": "markdown",
   "metadata": {},
   "source": [
    "2 is looking like the most delicious number of clusters and also matches up with my question so I'll continue on with $n=2$ and visualize its box plot. "
   ]
  },
  {
   "cell_type": "code",
   "execution_count": 98,
   "metadata": {},
   "outputs": [
    {
     "name": "stderr",
     "output_type": "stream",
     "text": [
      "/Users/kylewodehouse/anaconda3/lib/python3.11/site-packages/seaborn/axisgrid.py:118: UserWarning: The figure layout has changed to tight\n",
      "  self._figure.tight_layout(*args, **kwargs)\n"
     ]
    },
    {
     "data": {
      "text/plain": [
       "<seaborn.axisgrid.FacetGrid at 0x30d7145d0>"
      ]
     },
     "execution_count": 98,
     "metadata": {},
     "output_type": "execute_result"
    },
    {
     "data": {
      "image/png": "[encoded data removed]",
      "text/plain": [
       "<Figure size 500x500 with 1 Axes>"
      ]
     },
     "metadata": {},
     "output_type": "display_data"
    }
   ],
   "source": [
    "km = make_pipeline(StandardScaler(), KMeans(n_clusters=2, n_init=10, random_state=51524))\n",
    "km.fit(X)\n",
    "\n",
    "y = km[1].labels_\n",
    "sentences[\"cluster\"] = y\n",
    "sentences[\"sil\"] = silhouette_samples(X, y)\n",
    "sns.catplot(data=sentences, x=\"cluster\", y=\"sil\", kind=\"box\")"
   ]
  },
  {
   "cell_type": "markdown",
   "metadata": {},
   "source": [
    "Looks like cluster 0 is decent except for the crazy amount of outliers and cluster 1 is pretty bad. \n",
    "\n",
    "Going forward with the agglomerative clustering, I'll only look at $n = {2,3,4}$ since for k-means the other n values were trash and this will save lots of computing time. I'll also standardize X myself so I don't need to mess around with pipelines and not even bother with single-linkage because for all the values of $n$ I tested it made $n-1$ singletons."
   ]
  },
  {
   "cell_type": "code",
   "execution_count": 99,
   "metadata": {},
   "outputs": [],
   "source": [
    "from sklearn.cluster import AgglomerativeClustering\n",
    "\n",
    "for col in X.columns:\n",
    "    X[col] = StandardScaler().fit_transform(X[[col]])"
   ]
  },
  {
   "cell_type": "code",
   "execution_count": 100,
   "metadata": {},
   "outputs": [
    {
     "name": "stderr",
     "output_type": "stream",
     "text": [
      "/Users/kylewodehouse/anaconda3/lib/python3.11/site-packages/seaborn/axisgrid.py:118: UserWarning: The figure layout has changed to tight\n",
      "  self._figure.tight_layout(*args, **kwargs)\n",
      "/Users/kylewodehouse/anaconda3/lib/python3.11/site-packages/seaborn/axisgrid.py:118: UserWarning: The figure layout has changed to tight\n",
      "  self._figure.tight_layout(*args, **kwargs)\n",
      "/Users/kylewodehouse/anaconda3/lib/python3.11/site-packages/seaborn/axisgrid.py:118: UserWarning: The figure layout has changed to tight\n",
      "  self._figure.tight_layout(*args, **kwargs)\n"
     ]
    },
    {
     "data": {
      "text/plain": [
       "<seaborn.axisgrid.FacetGrid at 0x1607c4510>"
      ]
     },
     "execution_count": 100,
     "metadata": {},
     "output_type": "execute_result"
    },
    {
     "data": {
      "image/png": "[encoded data removed]",
      "text/plain": [
       "<Figure size 1500x500 with 3 Axes>"
      ]
     },
     "metadata": {},
     "output_type": "display_data"
    },
    {
     "data": {
      "image/png": "[encoded data removed]",
      "text/plain": [
       "<Figure size 1500x500 with 3 Axes>"
      ]
     },
     "metadata": {},
     "output_type": "display_data"
    },
    {
     "data": {
      "image/png": "[encoded data removed]",
      "text/plain": [
       "<Figure size 1500x500 with 3 Axes>"
      ]
     },
     "metadata": {},
     "output_type": "display_data"
    }
   ],
   "source": [
    "linkages = [\"ward\", \"complete\", \"average\"]\n",
    "\n",
    "results = pd.DataFrame()\n",
    "\n",
    "for linkage in linkages:\n",
    "    data = X.copy()\n",
    "    agg = AgglomerativeClustering(n_clusters=2, linkage=linkage)\n",
    "    agg.fit(X)\n",
    "    data[\"cluster\"] = agg.labels_\n",
    "    data[\"sil\"] = silhouette_samples(X, y)\n",
    "    data[\"linkage\"] = linkage\n",
    "    results = pd.concat( (results, data) )\n",
    "sns.catplot(data=results, x=\"cluster\", y=\"sil\", col='linkage', kind=\"box\")\n",
    "\n",
    "for linkage in linkages:\n",
    "    data = X.copy()\n",
    "    agg = AgglomerativeClustering(n_clusters=3, linkage=linkage)\n",
    "    agg.fit(X)\n",
    "    data[\"cluster\"] = agg.labels_\n",
    "    data[\"sil\"] = silhouette_samples(X, y)\n",
    "    data[\"linkage\"] = linkage\n",
    "    results = pd.concat( (results, data) )\n",
    "sns.catplot(data=results, x=\"cluster\", y=\"sil\", col='linkage', kind=\"box\")\n",
    "\n",
    "for linkage in linkages:\n",
    "    data = X.copy()\n",
    "    agg = AgglomerativeClustering(n_clusters=4, linkage=linkage)\n",
    "    agg.fit(X)\n",
    "    data[\"cluster\"] = agg.labels_\n",
    "    data[\"sil\"] = silhouette_samples(X, y)\n",
    "    data[\"linkage\"] = linkage\n",
    "    results = pd.concat( (results, data) )\n",
    "sns.catplot(data=results, x=\"cluster\", y=\"sil\", col='linkage', kind=\"box\")"
   ]
  },
  {
   "cell_type": "markdown",
   "metadata": {},
   "source": [
    "Taking a peek at the ARI"
   ]
  },
  {
   "cell_type": "code",
   "execution_count": 101,
   "metadata": {},
   "outputs": [
    {
     "name": "stdout",
     "output_type": "stream",
     "text": [
      "ARI for ward linkage with 2 clusters is -0.0003\n",
      "ARI for complete linkage with 2 clusters is -0.0000\n",
      "ARI for average linkage with 2 clusters is 0.0001\n",
      "ARI for ward linkage with 3 clusters is 0.0008\n",
      "ARI for complete linkage with 3 clusters is -0.0000\n",
      "ARI for average linkage with 3 clusters is 0.0010\n",
      "ARI for ward linkage with 4 clusters is 0.0010\n",
      "ARI for complete linkage with 4 clusters is 0.0001\n",
      "ARI for average linkage with 4 clusters is 0.0011\n"
     ]
    }
   ],
   "source": [
    "n = [2,3,4]\n",
    "\n",
    "for n_clusters in n:\n",
    "    for linkage in linkages:\n",
    "        agg = AgglomerativeClustering(n_clusters=n_clusters, linkage=linkage)\n",
    "        y = agg.fit_predict(X)\n",
    "        ARI = adjusted_rand_score(sentences['book'], y)\n",
    "        print(f\"ARI for {linkage} linkage with {n_clusters} clusters is {ARI:.4f}\")"
   ]
  },
  {
   "cell_type": "markdown",
   "metadata": {},
   "source": [
    "These ARI scores are pretty bad from a classification standpoint, but it may indicate that Rowling's writing didn't truly change from book 3 to 4. \n",
    "\n",
    "As a final MATH219 effort I'll choose only the top 25% of sentences and do similar speed-run analysis on them since maybe the shorter sentences lack writing style. "
   ]
  },
  {
   "cell_type": "code",
   "execution_count": 102,
   "metadata": {},
   "outputs": [],
   "source": [
    "X = sentences.drop(['book', 'chapter', 'text'], axis=1).loc[sentences['word_count'] > 26]\n",
    "X = StandardScaler().fit_transform(X)"
   ]
  },
  {
   "cell_type": "markdown",
   "metadata": {},
   "source": [
    "Agglomerative:"
   ]
  },
  {
   "cell_type": "code",
   "execution_count": 103,
   "metadata": {},
   "outputs": [
    {
     "name": "stdout",
     "output_type": "stream",
     "text": [
      "ARI for average linkage with 2 clusters is 0.0004\n",
      "ARI for single linkage with 2 clusters is 0.0004\n",
      "ARI for ward linkage with 2 clusters is 0.0019\n",
      "ARI for average linkage with 3 clusters is 0.0007\n",
      "ARI for single linkage with 3 clusters is 0.0008\n",
      "ARI for ward linkage with 3 clusters is -0.0036\n",
      "ARI for average linkage with 4 clusters is 0.0007\n",
      "ARI for single linkage with 4 clusters is 0.0006\n",
      "ARI for ward linkage with 4 clusters is 0.0000\n"
     ]
    }
   ],
   "source": [
    "n = [2,3,4]\n",
    "linkages = [\"average\", \"single\", \"ward\"]\n",
    "\n",
    "for n_clusters in n:\n",
    "    for linkage in linkages:\n",
    "        agg = AgglomerativeClustering(n_clusters=n_clusters, linkage=linkage)\n",
    "        y = agg.fit_predict(X)\n",
    "        ARI = adjusted_rand_score(sentences['book'].loc[sentences['word_count'] > 26], y)\n",
    "        print(f\"ARI for {linkage} linkage with {n_clusters} clusters is {ARI:.4f}\")"
   ]
  },
  {
   "cell_type": "markdown",
   "metadata": {},
   "source": [
    "K-means:"
   ]
  },
  {
   "cell_type": "code",
   "execution_count": 104,
   "metadata": {},
   "outputs": [
    {
     "name": "stdout",
     "output_type": "stream",
     "text": [
      "ARI for KMeans with 2 clusters is -0.0066\n"
     ]
    }
   ],
   "source": [
    "for n in [2]:\n",
    "    km = make_pipeline(StandardScaler(), KMeans(n_clusters=2, n_init=10, random_state=51524))\n",
    "    km.fit(X)\n",
    "    ARI = adjusted_rand_score(sentences['book'].loc[sentences['word_count'] > 26], km[1].labels_)\n",
    "    print(f\"ARI for KMeans with {n} clusters is {ARI:.4f}\")"
   ]
  },
  {
   "cell_type": "markdown",
   "metadata": {},
   "source": [
    "# Discussion\n",
    "\n",
    "This project originally set out to see if Rowling's writing on the sentence scale truly changed when she switched her genre from middle grade (books 1-3) to young adult (books 4-7, obviously). Lloyd's algorithm and a handful of linkage types for agglomerative clustering couldn't seem to get clusters anywhere near accurate to what book the rows (sentences) came from. \n",
    "\n",
    "I originally thought 'hey maybe its just annoying short sentences kicking around,' but looking at the top 25% longest sentences revealed all agglomerative clustering linkages couldn't find the secret (resisting the urge to write jokes about magic) and poor old lloyd (k-means) couldn't either.\n",
    "\n",
    "The only reasonable takeaway is that on the sentence scale Rowling's writing did not change in a NLTK implementable, measurable way. Further analysis would need to be done to determine if on a larger scale (maybe paragraph or page) her writing did change to better fit the young adult tag."
   ]
  }
 ],
 "metadata": {
  "kernelspec": {
   "display_name": "base",
   "language": "python",
   "name": "python3"
  },
  "language_info": {
   "codemirror_mode": {
    "name": "ipython",
    "version": 3
   },
   "file_extension": ".py",
   "mimetype": "text/x-python",
   "name": "python",
   "nbconvert_exporter": "python",
   "pygments_lexer": "ipython3",
   "version": "3.11.5"
  }
 },
 "nbformat": 4,
 "nbformat_minor": 2
}
